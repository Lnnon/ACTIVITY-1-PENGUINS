{
 "cells": [
  {
   "cell_type": "code",
   "execution_count": 3,
   "id": "f28905d8-e71c-4bf4-9b3b-2fb626e615ee",
   "metadata": {},
   "outputs": [],
   "source": [
    "import pandas as pd\n",
    "import numpy as np\n",
    "import warnings\n",
    "warnings.filterwarnings('ignore')"
   ]
  },
  {
   "cell_type": "code",
   "execution_count": 34,
   "id": "034536bf-42e2-431b-8261-c2836a9a44c4",
   "metadata": {},
   "outputs": [],
   "source": [
    "accident_data = pd.read_csv('datasets\\\\accident_data.csv')"
   ]
  },
  {
   "cell_type": "code",
   "execution_count": 47,
   "id": "2cd3d8bd-153a-46ed-a450-ecda6225c4b3",
   "metadata": {},
   "outputs": [
    {
     "data": {
      "text/html": [
       "<div>\n",
       "<style scoped>\n",
       "    .dataframe tbody tr th:only-of-type {\n",
       "        vertical-align: middle;\n",
       "    }\n",
       "\n",
       "    .dataframe tbody tr th {\n",
       "        vertical-align: top;\n",
       "    }\n",
       "\n",
       "    .dataframe thead th {\n",
       "        text-align: right;\n",
       "    }\n",
       "</style>\n",
       "<table border=\"1\" class=\"dataframe\">\n",
       "  <thead>\n",
       "    <tr style=\"text-align: right;\">\n",
       "      <th></th>\n",
       "      <th>Index</th>\n",
       "      <th>Accident_Severity</th>\n",
       "      <th>Accident Date</th>\n",
       "      <th>Latitude</th>\n",
       "      <th>Light_Conditions</th>\n",
       "      <th>District Area</th>\n",
       "      <th>Longitude</th>\n",
       "      <th>Number_of_Casualties</th>\n",
       "      <th>Number_of_Vehicles</th>\n",
       "      <th>Road_Surface_Conditions</th>\n",
       "      <th>Road_Type</th>\n",
       "      <th>Urban_or_Rural_Area</th>\n",
       "      <th>Weather_Conditions</th>\n",
       "      <th>Vehicle_Type</th>\n",
       "    </tr>\n",
       "  </thead>\n",
       "  <tbody>\n",
       "    <tr>\n",
       "      <th>0</th>\n",
       "      <td>200701BS64157</td>\n",
       "      <td>Serious</td>\n",
       "      <td>05/06/2019</td>\n",
       "      <td>51.506187</td>\n",
       "      <td>Darkness - lights lit</td>\n",
       "      <td>Kensington and Chelsea</td>\n",
       "      <td>-0.209082</td>\n",
       "      <td>1</td>\n",
       "      <td>2</td>\n",
       "      <td>Dry</td>\n",
       "      <td>Single carriageway</td>\n",
       "      <td>Urban</td>\n",
       "      <td>Fine no high winds</td>\n",
       "      <td>Car</td>\n",
       "    </tr>\n",
       "    <tr>\n",
       "      <th>1</th>\n",
       "      <td>200701BS65737</td>\n",
       "      <td>Serious</td>\n",
       "      <td>02/07/2019</td>\n",
       "      <td>51.495029</td>\n",
       "      <td>Daylight</td>\n",
       "      <td>Kensington and Chelsea</td>\n",
       "      <td>-0.173647</td>\n",
       "      <td>1</td>\n",
       "      <td>2</td>\n",
       "      <td>Wet or damp</td>\n",
       "      <td>Single carriageway</td>\n",
       "      <td>Urban</td>\n",
       "      <td>Raining no high winds</td>\n",
       "      <td>Car</td>\n",
       "    </tr>\n",
       "    <tr>\n",
       "      <th>2</th>\n",
       "      <td>200701BS66127</td>\n",
       "      <td>Serious</td>\n",
       "      <td>26/08/2019</td>\n",
       "      <td>51.517715</td>\n",
       "      <td>Darkness - lighting unknown</td>\n",
       "      <td>Kensington and Chelsea</td>\n",
       "      <td>-0.210215</td>\n",
       "      <td>1</td>\n",
       "      <td>3</td>\n",
       "      <td>Dry</td>\n",
       "      <td>Single carriageway</td>\n",
       "      <td>Urban</td>\n",
       "      <td>Fine no high winds</td>\n",
       "      <td>Taxi/Private hire car</td>\n",
       "    </tr>\n",
       "    <tr>\n",
       "      <th>3</th>\n",
       "      <td>200701BS66128</td>\n",
       "      <td>Serious</td>\n",
       "      <td>16/08/2019</td>\n",
       "      <td>51.495478</td>\n",
       "      <td>Daylight</td>\n",
       "      <td>Kensington and Chelsea</td>\n",
       "      <td>-0.202731</td>\n",
       "      <td>1</td>\n",
       "      <td>4</td>\n",
       "      <td>Dry</td>\n",
       "      <td>Single carriageway</td>\n",
       "      <td>Urban</td>\n",
       "      <td>Fine no high winds</td>\n",
       "      <td>Bus or coach (17 or more pass seats)</td>\n",
       "    </tr>\n",
       "    <tr>\n",
       "      <th>4</th>\n",
       "      <td>200701BS66837</td>\n",
       "      <td>Slight</td>\n",
       "      <td>03/09/2019</td>\n",
       "      <td>51.488576</td>\n",
       "      <td>Darkness - lights lit</td>\n",
       "      <td>Kensington and Chelsea</td>\n",
       "      <td>-0.192487</td>\n",
       "      <td>1</td>\n",
       "      <td>2</td>\n",
       "      <td>Dry</td>\n",
       "      <td>Single carriageway</td>\n",
       "      <td>Urban</td>\n",
       "      <td>Fine no high winds</td>\n",
       "      <td>Other vehicle</td>\n",
       "    </tr>\n",
       "    <tr>\n",
       "      <th>...</th>\n",
       "      <td>...</td>\n",
       "      <td>...</td>\n",
       "      <td>...</td>\n",
       "      <td>...</td>\n",
       "      <td>...</td>\n",
       "      <td>...</td>\n",
       "      <td>...</td>\n",
       "      <td>...</td>\n",
       "      <td>...</td>\n",
       "      <td>...</td>\n",
       "      <td>...</td>\n",
       "      <td>...</td>\n",
       "      <td>...</td>\n",
       "      <td>...</td>\n",
       "    </tr>\n",
       "    <tr>\n",
       "      <th>660674</th>\n",
       "      <td>201091NM01760</td>\n",
       "      <td>Slight</td>\n",
       "      <td>18/02/2022</td>\n",
       "      <td>57.374005</td>\n",
       "      <td>Daylight</td>\n",
       "      <td>Highland</td>\n",
       "      <td>-3.467828</td>\n",
       "      <td>2</td>\n",
       "      <td>1</td>\n",
       "      <td>Dry</td>\n",
       "      <td>Single carriageway</td>\n",
       "      <td>Rural</td>\n",
       "      <td>Fine no high winds</td>\n",
       "      <td>Car</td>\n",
       "    </tr>\n",
       "    <tr>\n",
       "      <th>660675</th>\n",
       "      <td>201091NM01881</td>\n",
       "      <td>Slight</td>\n",
       "      <td>21/02/2022</td>\n",
       "      <td>57.232273</td>\n",
       "      <td>Darkness - no lighting</td>\n",
       "      <td>Highland</td>\n",
       "      <td>-3.809281</td>\n",
       "      <td>1</td>\n",
       "      <td>1</td>\n",
       "      <td>Frost or ice</td>\n",
       "      <td>Single carriageway</td>\n",
       "      <td>Rural</td>\n",
       "      <td>Fine no high winds</td>\n",
       "      <td>Car</td>\n",
       "    </tr>\n",
       "    <tr>\n",
       "      <th>660676</th>\n",
       "      <td>201091NM01935</td>\n",
       "      <td>Slight</td>\n",
       "      <td>23/02/2022</td>\n",
       "      <td>57.585044</td>\n",
       "      <td>Daylight</td>\n",
       "      <td>Highland</td>\n",
       "      <td>-3.862727</td>\n",
       "      <td>1</td>\n",
       "      <td>3</td>\n",
       "      <td>Frost or ice</td>\n",
       "      <td>Single carriageway</td>\n",
       "      <td>Rural</td>\n",
       "      <td>Fine no high winds</td>\n",
       "      <td>Car</td>\n",
       "    </tr>\n",
       "    <tr>\n",
       "      <th>660677</th>\n",
       "      <td>201091NM01964</td>\n",
       "      <td>Serious</td>\n",
       "      <td>23/02/2022</td>\n",
       "      <td>57.214898</td>\n",
       "      <td>Darkness - no lighting</td>\n",
       "      <td>Highland</td>\n",
       "      <td>-3.823997</td>\n",
       "      <td>1</td>\n",
       "      <td>2</td>\n",
       "      <td>Wet or damp</td>\n",
       "      <td>Single carriageway</td>\n",
       "      <td>Rural</td>\n",
       "      <td>Fine no high winds</td>\n",
       "      <td>Motorcycle over 500cc</td>\n",
       "    </tr>\n",
       "    <tr>\n",
       "      <th>660678</th>\n",
       "      <td>201091NM02142</td>\n",
       "      <td>Serious</td>\n",
       "      <td>28/02/2022</td>\n",
       "      <td>57.575210</td>\n",
       "      <td>Daylight</td>\n",
       "      <td>Highland</td>\n",
       "      <td>-3.895673</td>\n",
       "      <td>1</td>\n",
       "      <td>1</td>\n",
       "      <td>Wet or damp</td>\n",
       "      <td>Dual carriageway</td>\n",
       "      <td>Rural</td>\n",
       "      <td>Snowing no high winds</td>\n",
       "      <td>Car</td>\n",
       "    </tr>\n",
       "  </tbody>\n",
       "</table>\n",
       "<p>660679 rows × 14 columns</p>\n",
       "</div>"
      ],
      "text/plain": [
       "                Index Accident_Severity Accident Date   Latitude  \\\n",
       "0       200701BS64157           Serious    05/06/2019  51.506187   \n",
       "1       200701BS65737           Serious    02/07/2019  51.495029   \n",
       "2       200701BS66127           Serious    26/08/2019  51.517715   \n",
       "3       200701BS66128           Serious    16/08/2019  51.495478   \n",
       "4       200701BS66837            Slight    03/09/2019  51.488576   \n",
       "...               ...               ...           ...        ...   \n",
       "660674  201091NM01760            Slight    18/02/2022  57.374005   \n",
       "660675  201091NM01881            Slight    21/02/2022  57.232273   \n",
       "660676  201091NM01935            Slight    23/02/2022  57.585044   \n",
       "660677  201091NM01964           Serious    23/02/2022  57.214898   \n",
       "660678  201091NM02142           Serious    28/02/2022  57.575210   \n",
       "\n",
       "                   Light_Conditions           District Area  Longitude  \\\n",
       "0             Darkness - lights lit  Kensington and Chelsea  -0.209082   \n",
       "1                          Daylight  Kensington and Chelsea  -0.173647   \n",
       "2       Darkness - lighting unknown  Kensington and Chelsea  -0.210215   \n",
       "3                          Daylight  Kensington and Chelsea  -0.202731   \n",
       "4             Darkness - lights lit  Kensington and Chelsea  -0.192487   \n",
       "...                             ...                     ...        ...   \n",
       "660674                     Daylight                Highland  -3.467828   \n",
       "660675       Darkness - no lighting                Highland  -3.809281   \n",
       "660676                     Daylight                Highland  -3.862727   \n",
       "660677       Darkness - no lighting                Highland  -3.823997   \n",
       "660678                     Daylight                Highland  -3.895673   \n",
       "\n",
       "        Number_of_Casualties  Number_of_Vehicles Road_Surface_Conditions  \\\n",
       "0                          1                   2                     Dry   \n",
       "1                          1                   2             Wet or damp   \n",
       "2                          1                   3                     Dry   \n",
       "3                          1                   4                     Dry   \n",
       "4                          1                   2                     Dry   \n",
       "...                      ...                 ...                     ...   \n",
       "660674                     2                   1                     Dry   \n",
       "660675                     1                   1            Frost or ice   \n",
       "660676                     1                   3            Frost or ice   \n",
       "660677                     1                   2             Wet or damp   \n",
       "660678                     1                   1             Wet or damp   \n",
       "\n",
       "                 Road_Type Urban_or_Rural_Area     Weather_Conditions  \\\n",
       "0       Single carriageway               Urban     Fine no high winds   \n",
       "1       Single carriageway               Urban  Raining no high winds   \n",
       "2       Single carriageway               Urban     Fine no high winds   \n",
       "3       Single carriageway               Urban     Fine no high winds   \n",
       "4       Single carriageway               Urban     Fine no high winds   \n",
       "...                    ...                 ...                    ...   \n",
       "660674  Single carriageway               Rural     Fine no high winds   \n",
       "660675  Single carriageway               Rural     Fine no high winds   \n",
       "660676  Single carriageway               Rural     Fine no high winds   \n",
       "660677  Single carriageway               Rural     Fine no high winds   \n",
       "660678    Dual carriageway               Rural  Snowing no high winds   \n",
       "\n",
       "                                Vehicle_Type  \n",
       "0                                        Car  \n",
       "1                                        Car  \n",
       "2                      Taxi/Private hire car  \n",
       "3       Bus or coach (17 or more pass seats)  \n",
       "4                              Other vehicle  \n",
       "...                                      ...  \n",
       "660674                                   Car  \n",
       "660675                                   Car  \n",
       "660676                                   Car  \n",
       "660677                 Motorcycle over 500cc  \n",
       "660678                                   Car  \n",
       "\n",
       "[660679 rows x 14 columns]"
      ]
     },
     "execution_count": 47,
     "metadata": {},
     "output_type": "execute_result"
    }
   ],
   "source": [
    "accident_data"
   ]
  },
  {
   "cell_type": "code",
   "execution_count": 55,
   "id": "c19f9adb-a714-4369-aa44-d696c79bbe5f",
   "metadata": {},
   "outputs": [
    {
     "data": {
      "text/plain": [
       "0         Single carriageway\n",
       "1         Single carriageway\n",
       "2         Single carriageway\n",
       "3         Single carriageway\n",
       "4         Single carriageway\n",
       "                 ...        \n",
       "660674    Single carriageway\n",
       "660675    Single carriageway\n",
       "660676    Single carriageway\n",
       "660677    Single carriageway\n",
       "660678      Dual carriageway\n",
       "Name: Road_Type, Length: 660679, dtype: object"
      ]
     },
     "execution_count": 55,
     "metadata": {},
     "output_type": "execute_result"
    }
   ],
   "source": [
    "accident_data['Road_Type']"
   ]
  },
  {
   "cell_type": "markdown",
   "id": "e8e1093b-bbd4-4f34-9a87-b1e802426cda",
   "metadata": {},
   "source": [
    "<h1>FillUp the Null Values</h1>"
   ]
  },
  {
   "cell_type": "code",
   "execution_count": 35,
   "id": "7d29ada0-946b-4175-9a53-5edb74aa196d",
   "metadata": {},
   "outputs": [
    {
     "data": {
      "text/plain": [
       "Index                          0\n",
       "Accident_Severity              0\n",
       "Accident Date                  0\n",
       "Latitude                      25\n",
       "Light_Conditions               0\n",
       "District Area                  0\n",
       "Longitude                     26\n",
       "Number_of_Casualties           0\n",
       "Number_of_Vehicles             0\n",
       "Road_Surface_Conditions      726\n",
       "Road_Type                   4520\n",
       "Urban_or_Rural_Area           15\n",
       "Weather_Conditions         14128\n",
       "Vehicle_Type                   0\n",
       "dtype: int64"
      ]
     },
     "execution_count": 35,
     "metadata": {},
     "output_type": "execute_result"
    }
   ],
   "source": [
    "accident_data.isnull().sum()"
   ]
  },
  {
   "cell_type": "code",
   "execution_count": 36,
   "id": "fe0fe241-6068-45de-bdeb-928967b76390",
   "metadata": {},
   "outputs": [],
   "source": [
    "accident_data['Latitude'] = accident_data['Latitude'].fillna(accident_data['Latitude'].mean(0))\n",
    "accident_data['Longitude'] = accident_data['Longitude'].fillna(accident_data['Longitude'].mean(0))\n",
    "accident_data['Road_Surface_Conditions'] = accident_data['Road_Surface_Conditions'].fillna(accident_data['Road_Surface_Conditions'].mode()[0])\n",
    "accident_data['Road_Type'] = accident_data['Road_Type'].fillna(accident_data['Road_Type'].mode()[0])\n",
    "accident_data['Urban_or_Rural_Area'] = accident_data['Urban_or_Rural_Area'].fillna(accident_data['Urban_or_Rural_Area'].mode()[0])\n",
    "accident_data['Weather_Conditions'] = accident_data['Weather_Conditions'].fillna(accident_data['Weather_Conditions'].mode()[0])"
   ]
  },
  {
   "cell_type": "code",
   "execution_count": 37,
   "id": "637e1d25-ec56-478e-8819-2d64aae94ec2",
   "metadata": {},
   "outputs": [
    {
     "data": {
      "text/plain": [
       "Index                      0\n",
       "Accident_Severity          0\n",
       "Accident Date              0\n",
       "Latitude                   0\n",
       "Light_Conditions           0\n",
       "District Area              0\n",
       "Longitude                  0\n",
       "Number_of_Casualties       0\n",
       "Number_of_Vehicles         0\n",
       "Road_Surface_Conditions    0\n",
       "Road_Type                  0\n",
       "Urban_or_Rural_Area        0\n",
       "Weather_Conditions         0\n",
       "Vehicle_Type               0\n",
       "dtype: int64"
      ]
     },
     "execution_count": 37,
     "metadata": {},
     "output_type": "execute_result"
    }
   ],
   "source": [
    "accident_data.isnull().sum()"
   ]
  },
  {
   "cell_type": "markdown",
   "id": "916ad708-8c4b-4384-a003-27f5929064ff",
   "metadata": {},
   "source": [
    "<h1>Questions:</h1>"
   ]
  },
  {
   "cell_type": "markdown",
   "id": "d3cc851e-abf6-4f4d-9972-9c4ea8546caf",
   "metadata": {},
   "source": [
    "<h2>1. Is there a difference in the number of accidents occurring during daylight versus darkness?</h2>"
   ]
  },
  {
   "cell_type": "code",
   "execution_count": 39,
   "id": "3d24dfe6-e88c-4f68-8e21-c60e2f0c526d",
   "metadata": {},
   "outputs": [
    {
     "data": {
      "text/plain": [
       "Light_Conditions\n",
       "Daylight                       484880\n",
       "Darkness - lights lit          129335\n",
       "Darkness - no lighting          37437\n",
       "Darkness - lighting unknown      6484\n",
       "Darkness - lights unlit          2543\n",
       "Name: count, dtype: int64"
      ]
     },
     "execution_count": 39,
     "metadata": {},
     "output_type": "execute_result"
    }
   ],
   "source": [
    "accident_data[\"Light_Conditions\"].value_counts()"
   ]
  },
  {
   "cell_type": "markdown",
   "id": "fad4adef-d7ef-48ed-b923-890640bc2f82",
   "metadata": {},
   "source": [
    "<h3>Insight: Daylight dominates accident counts, though darkness still accounts for a significant share tied to reduced visibility.</h3>"
   ]
  },
  {
   "cell_type": "markdown",
   "id": "398d8cdc-1fbe-4250-85ec-a5ea9d717b68",
   "metadata": {},
   "source": [
    "<h2>2. Between urban and rural, in which area do accidents most occur?</h2>"
   ]
  },
  {
   "cell_type": "code",
   "execution_count": 38,
   "id": "20d93167-ffe3-4d95-bd54-43fe368fb733",
   "metadata": {},
   "outputs": [
    {
     "data": {
      "text/plain": [
       "Urban_or_Rural_Area\n",
       "Urban          421678\n",
       "Rural          238990\n",
       "Unallocated        11\n",
       "Name: count, dtype: int64"
      ]
     },
     "execution_count": 38,
     "metadata": {},
     "output_type": "execute_result"
    }
   ],
   "source": [
    "accident_data[\"Urban_or_Rural_Area\"].value_counts()"
   ]
  },
  {
   "cell_type": "markdown",
   "id": "ec506db2-033a-457a-8c05-6e783226d6f1",
   "metadata": {},
   "source": [
    "<h3>Insight: Urban areas typically see more accidents due to higher traffic density compared to rural roads.</h3>"
   ]
  },
  {
   "cell_type": "markdown",
   "id": "12cf2292-f42e-4563-a103-28d5585cf473",
   "metadata": {},
   "source": [
    "<h2>3. What are the accident locations' average coordinates (latitude and longitude)?</h2>"
   ]
  },
  {
   "cell_type": "code",
   "execution_count": 40,
   "id": "c0d4c3c0-3172-472e-bae6-4cb033dd9bce",
   "metadata": {},
   "outputs": [
    {
     "data": {
      "text/plain": [
       "Latitude     52.553866\n",
       "Longitude    -1.431210\n",
       "dtype: float64"
      ]
     },
     "execution_count": 40,
     "metadata": {},
     "output_type": "execute_result"
    }
   ],
   "source": [
    "accident_data[[\"Latitude\",\"Longitude\"]].mean()"
   ]
  },
  {
   "cell_type": "markdown",
   "id": "2fd6382e-0882-45e0-9ef5-10506e0ff7a6",
   "metadata": {},
   "source": [
    "<h3>Insight: The mean coordinates center around a specific region, giving a rough “geographic midpoint” of accident locations.</h3>"
   ]
  },
  {
   "cell_type": "markdown",
   "id": "270ac5b0-faac-4225-b629-60568986b8ec",
   "metadata": {},
   "source": [
    "<h2>4. Which kind of vehicle type has the highest distribution in accidents?</h2>"
   ]
  },
  {
   "cell_type": "code",
   "execution_count": 41,
   "id": "b6302983-de3a-40b4-a07e-c95e89abdfac",
   "metadata": {},
   "outputs": [
    {
     "data": {
      "text/plain": [
       "Vehicle_Type\n",
       "Car    497992\n",
       "Name: count, dtype: int64"
      ]
     },
     "execution_count": 41,
     "metadata": {},
     "output_type": "execute_result"
    }
   ],
   "source": [
    "accident_data[\"Vehicle_Type\"].value_counts().head(1)"
   ]
  },
  {
   "cell_type": "markdown",
   "id": "40d0dcc8-1602-4da2-98cd-c8093f52ce24",
   "metadata": {},
   "source": [
    "<h3>Insight: Cars dominate accident involvement, reflecting their overwhelming presence on the road.</h3>"
   ]
  },
  {
   "cell_type": "markdown",
   "id": "5a4e7248-2d77-4b5a-9995-ebdcfc01685c",
   "metadata": {},
   "source": [
    "<h2>5. Among the different road conditions, in which of them does an accident usually happen?</h2>"
   ]
  },
  {
   "cell_type": "code",
   "execution_count": 42,
   "id": "5b09823d-3584-46a5-8adc-1517a4a40d7c",
   "metadata": {},
   "outputs": [
    {
     "data": {
      "text/plain": [
       "Road_Surface_Conditions\n",
       "Dry    448547\n",
       "Name: count, dtype: int64"
      ]
     },
     "execution_count": 42,
     "metadata": {},
     "output_type": "execute_result"
    }
   ],
   "source": [
    "accident_data[\"Road_Surface_Conditions\"].value_counts().head(1)"
   ]
  },
  {
   "cell_type": "markdown",
   "id": "067f7eee-6105-474e-9d4f-49e51db5e00e",
   "metadata": {},
   "source": [
    "<h3>Insight: Dry roads account for the majority of crashes, showing that accidents are not always weather-related.</h3>"
   ]
  },
  {
   "cell_type": "markdown",
   "id": "f99f4243-2fe7-466e-bdd9-fb62a0084e1e",
   "metadata": {},
   "source": [
    "<h2>6. What are the oldest and most recent accident dates in the dataset?</h2>"
   ]
  },
  {
   "cell_type": "code",
   "execution_count": 50,
   "id": "400ebc5a-882c-487d-aac2-c1e9d563f083",
   "metadata": {},
   "outputs": [
    {
     "data": {
      "text/plain": [
       "('01/01/2019', '31/12/2022')"
      ]
     },
     "execution_count": 50,
     "metadata": {},
     "output_type": "execute_result"
    }
   ],
   "source": [
    "accident_data[\"Accident Date\"].min(), accident_data[\"Accident Date\"].max()"
   ]
  },
  {
   "cell_type": "markdown",
   "id": "2fac9a89-661f-439a-8b71-edd0353aaa88",
   "metadata": {},
   "source": [
    "<h3>Insight: The dataset spans multiple years, helping identify long-term accident patterns.</h3>"
   ]
  },
  {
   "cell_type": "markdown",
   "id": "6f8417f7-8720-4d23-b35c-77e5b6f17917",
   "metadata": {},
   "source": [
    "<h2>7. Are accidents more frequent on dry roads compared to damp or wet roads?</h2>"
   ]
  },
  {
   "cell_type": "code",
   "execution_count": 57,
   "id": "9e5224c0-303f-4005-9d10-3b965c760d6c",
   "metadata": {},
   "outputs": [
    {
     "data": {
      "text/plain": [
       "Road_Surface_Conditions\n",
       "Dry                     448547\n",
       "Wet or damp             186708\n",
       "Frost or ice             18517\n",
       "Snow                      5890\n",
       "Flood over 3cm. deep      1017\n",
       "Name: count, dtype: int64"
      ]
     },
     "execution_count": 57,
     "metadata": {},
     "output_type": "execute_result"
    }
   ],
   "source": [
    "accident_data[\"Road_Surface_Conditions\"].value_counts()"
   ]
  },
  {
   "cell_type": "markdown",
   "id": "32c0bb3b-586c-47bb-b579-d17f32f081db",
   "metadata": {},
   "source": [
    "<h3>Insight: Yes—dry roads dominate, though wet roads carry higher risk per mile traveled.</h3>"
   ]
  },
  {
   "cell_type": "markdown",
   "id": "00a5bb1e-4a1b-4a02-9ae0-cf16df36b927",
   "metadata": {},
   "source": [
    "<h2>8. Which light conditions has the highest number of casualties?</h2>"
   ]
  },
  {
   "cell_type": "code",
   "execution_count": 58,
   "id": "989d9d29-c998-4e83-a9af-21d360278861",
   "metadata": {},
   "outputs": [
    {
     "data": {
      "text/plain": [
       "Light_Conditions\n",
       "Darkness - lighting unknown      8471\n",
       "Darkness - lights lit          177108\n",
       "Darkness - lights unlit          3385\n",
       "Darkness - no lighting          57715\n",
       "Daylight                       649889\n",
       "Name: Number_of_Casualties, dtype: int64"
      ]
     },
     "execution_count": 58,
     "metadata": {},
     "output_type": "execute_result"
    }
   ],
   "source": [
    "accident_data.groupby(\"Light_Conditions\")[\"Number_of_Casualties\"].sum()"
   ]
  },
  {
   "cell_type": "markdown",
   "id": "3e86b0e0-3b5e-4216-8d9c-76fff34c37df",
   "metadata": {},
   "source": [
    "<h3>Insight: Daylight produces more total casualties simply due to traffic volume.</h3>"
   ]
  },
  {
   "cell_type": "markdown",
   "id": "36125f11-e9f1-4af4-8f06-18f0892be8ae",
   "metadata": {},
   "source": [
    "<h2>9. On average, how many vehicles are typically involved in road accidents, and what does this suggest about crash dynamics?</h2>"
   ]
  },
  {
   "cell_type": "code",
   "execution_count": 59,
   "id": "278f40ba-601c-44dd-8dc3-a32b2d623a4e",
   "metadata": {},
   "outputs": [
    {
     "data": {
      "text/plain": [
       "np.float64(1.8312554205597575)"
      ]
     },
     "execution_count": 59,
     "metadata": {},
     "output_type": "execute_result"
    }
   ],
   "source": [
    "accident_data[\"Number_of_Vehicles\"].mean()"
   ]
  },
  {
   "cell_type": "markdown",
   "id": "78a75a24-b9d1-4eea-82a9-cbdea9fe7f9d",
   "metadata": {},
   "source": [
    "<h3>Insight: Most crashes involve a small number of vehicles, typically two. This indicates that multi-vehicle pile-ups are relatively rare compared to simpler collisions.</h3>"
   ]
  },
  {
   "cell_type": "markdown",
   "id": "d49014ba-d2db-4ece-b051-9c700b89f2a3",
   "metadata": {},
   "source": [
    "<h2>10. Which accident severity occurs most often, and how does this reflect the overall risk profile of the dataset?</h2>"
   ]
  },
  {
   "cell_type": "code",
   "execution_count": 60,
   "id": "5ec8f0e1-57c3-4fe8-9b47-851980f31380",
   "metadata": {},
   "outputs": [
    {
     "data": {
      "text/plain": [
       "Accident_Severity\n",
       "Slight     563801\n",
       "Serious     88217\n",
       "Fatal        8661\n",
       "Name: count, dtype: int64"
      ]
     },
     "execution_count": 60,
     "metadata": {},
     "output_type": "execute_result"
    }
   ],
   "source": [
    "accident_data[\"Accident_Severity\"].value_counts()"
   ]
  },
  {
   "cell_type": "markdown",
   "id": "b3729604-8ed4-41b9-8fd8-d5de308f8ef3",
   "metadata": {},
   "source": [
    "<h3>Insight: Slight accidents dominate the dataset, followed by serious ones. Fatal crashes are far fewer, suggesting that while accidents are frequent, most are not life-threatening.</h3>"
   ]
  },
  {
   "cell_type": "markdown",
   "id": "ec36cbe4-a426-4700-a102-69e3ff939ffa",
   "metadata": {},
   "source": [
    "<h2>11. Under which weather conditions do accidents most frequently occur, and what might this say about driver behavior?</h2>"
   ]
  },
  {
   "cell_type": "code",
   "execution_count": 61,
   "id": "8b07ea07-4040-421b-a4a8-778098e1a587",
   "metadata": {},
   "outputs": [
    {
     "data": {
      "text/plain": [
       "(0    Fine no high winds\n",
       " Name: Weather_Conditions, dtype: object,\n",
       " Weather_Conditions\n",
       " Fine no high winds       535013\n",
       " Raining no high winds     79696\n",
       " Other                     17150\n",
       " Raining + high winds       9615\n",
       " Fine + high winds          8554\n",
       " Name: count, dtype: int64)"
      ]
     },
     "execution_count": 61,
     "metadata": {},
     "output_type": "execute_result"
    }
   ],
   "source": [
    "accident_data[\"Weather_Conditions\"].mode(), accident_data[\"Weather_Conditions\"].value_counts().head()"
   ]
  },
  {
   "cell_type": "markdown",
   "id": "db26d671-415a-4073-ad2f-38145eebe081",
   "metadata": {},
   "source": [
    "<h3>Insight: Clear weather conditions are often linked with the highest number of crashes. This may reflect higher road usage and driver overconfidence when conditions seem safe.</h3>"
   ]
  },
  {
   "cell_type": "markdown",
   "id": "7e820c47-ab2e-43a2-b017-6190ad166f44",
   "metadata": {},
   "source": [
    "<h2>12. How does the average number of casualties vary across different severity levels of accidents?</h2>"
   ]
  },
  {
   "cell_type": "code",
   "execution_count": 63,
   "id": "8c9a23ca-e69b-40c6-b817-f1eb78be121a",
   "metadata": {},
   "outputs": [
    {
     "data": {
      "text/plain": [
       "Accident_Severity\n",
       "Fatal      1.903129\n",
       "Serious    1.467280\n",
       "Slight     1.331402\n",
       "Name: Number_of_Casualties, dtype: float64"
      ]
     },
     "execution_count": 63,
     "metadata": {},
     "output_type": "execute_result"
    }
   ],
   "source": [
    "accident_data.groupby(\"Accident_Severity\")[\"Number_of_Casualties\"].mean()"
   ]
  },
  {
   "cell_type": "markdown",
   "id": "c2647a2b-1e92-4a35-82f0-c9613f8e5358",
   "metadata": {},
   "source": [
    "<h3>Insight: Fatal and serious crashes have a noticeably higher average casualty count than slight accidents. This indicates severity classification aligns well with casualty outcomes.</h3>"
   ]
  },
  {
   "cell_type": "markdown",
   "id": "4dac45bc-a9f9-4f9c-bce2-573eb929717d",
   "metadata": {},
   "source": [
    "<h2>13. How does the number of vehicles involved typically change across slight, serious, and fatal accidents?</h2>"
   ]
  },
  {
   "cell_type": "code",
   "execution_count": 67,
   "id": "8d001d18-9c61-44fd-afd1-d499bae5add8",
   "metadata": {},
   "outputs": [
    {
     "data": {
      "text/plain": [
       "Accident_Severity\n",
       "Fatal      1.786976\n",
       "Serious    1.678327\n",
       "Slight     1.855864\n",
       "Name: Number_of_Vehicles, dtype: float64"
      ]
     },
     "execution_count": 67,
     "metadata": {},
     "output_type": "execute_result"
    }
   ],
   "source": [
    "accident_data.groupby(\"Accident_Severity\")[\"Number_of_Vehicles\"].mean()"
   ]
  },
  {
   "cell_type": "markdown",
   "id": "94f2fa86-f8f5-4808-b622-342be624b637",
   "metadata": {},
   "source": [
    "<h3>Insight: Fatal crashes tend to involve slightly more vehicles on average than slight accidents. This suggests that multi-vehicle interactions can intensify crash severity.</h3>"
   ]
  },
  {
   "cell_type": "markdown",
   "id": "3f6b2ecb-973e-4541-a974-4ce39af93d15",
   "metadata": {},
   "source": [
    "<h2>14. What relationship exists between the number of vehicles and the number of casualties in an accident?</h2>"
   ]
  },
  {
   "cell_type": "code",
   "execution_count": 68,
   "id": "56997eb2-2484-47ec-8fb3-9784938f036c",
   "metadata": {},
   "outputs": [
    {
     "data": {
      "text/plain": [
       "np.float64(0.22888886126927635)"
      ]
     },
     "execution_count": 68,
     "metadata": {},
     "output_type": "execute_result"
    }
   ],
   "source": [
    "accident_data[\"Number_of_Vehicles\"].corr(accident_data[\"Number_of_Casualties\"])"
   ]
  },
  {
   "cell_type": "markdown",
   "id": "f3dfab0f-7d1c-40cd-9fc9-9fbf60c8388d",
   "metadata": {},
   "source": [
    "<h3>Insight: The correlation between vehicles and casualties is generally positive, meaning more vehicles often result in more casualties. However, the relationship is not perfect, implying other factors matter too.</h3>"
   ]
  },
  {
   "cell_type": "markdown",
   "id": "5aaf475c-8673-4dca-b0e2-d5300a04e335",
   "metadata": {},
   "source": [
    "<h2>15. What is the mode of vehicle types involved in accidents overall?</h2>"
   ]
  },
  {
   "cell_type": "code",
   "execution_count": 70,
   "id": "73005f4d-823c-498b-bed3-16410005c1e6",
   "metadata": {},
   "outputs": [
    {
     "data": {
      "text/plain": [
       "0    Car\n",
       "Name: Vehicle_Type, dtype: object"
      ]
     },
     "execution_count": 70,
     "metadata": {},
     "output_type": "execute_result"
    }
   ],
   "source": [
    "accident_data[\"Vehicle_Type\"].mode()"
   ]
  },
  {
   "cell_type": "markdown",
   "id": "0f9b70e7-1bca-44b1-9cc1-d0553a8e11d2",
   "metadata": {},
   "source": [
    "<h3>Insight: Cars usually dominate accident involvement compared to other vehicle types. This reflects their prevalence on the roads.</h3>"
   ]
  },
  {
   "cell_type": "markdown",
   "id": "a0d5a95d-aa92-4bf2-a8e2-1083773b41ac",
   "metadata": {},
   "source": [
    "<h2>16. What is the average number of casualties per accident?</h2>"
   ]
  },
  {
   "cell_type": "code",
   "execution_count": 71,
   "id": "d2b39713-f304-4967-9405-00c4b250872a",
   "metadata": {},
   "outputs": [
    {
     "data": {
      "text/plain": [
       "np.float64(1.357040257068864)"
      ]
     },
     "execution_count": 71,
     "metadata": {},
     "output_type": "execute_result"
    }
   ],
   "source": [
    "accident_data[\"Number_of_Casualties\"].mean()"
   ]
  },
  {
   "cell_type": "markdown",
   "id": "8e9aa0fc-1c5b-406b-84df-7b14a89368c0",
   "metadata": {},
   "source": [
    "<h3>Insight: Most accidents involve only 1–2 casualties, with larger pileups being rare.</h3>"
   ]
  },
  {
   "cell_type": "markdown",
   "id": "9e547f89-58c2-4bb9-9906-da9f8a92fa3b",
   "metadata": {},
   "source": [
    "<h2>17. Which road surface condition has the highest accident frequency?</h2>"
   ]
  },
  {
   "cell_type": "code",
   "execution_count": 72,
   "id": "775628bd-d7a4-4f5b-867a-558780e38987",
   "metadata": {},
   "outputs": [
    {
     "data": {
      "text/plain": [
       "Road_Surface_Conditions\n",
       "Dry    448547\n",
       "Name: count, dtype: int64"
      ]
     },
     "execution_count": 72,
     "metadata": {},
     "output_type": "execute_result"
    }
   ],
   "source": [
    "accident_data[\"Road_Surface_Conditions\"].value_counts().head(1)"
   ]
  },
  {
   "cell_type": "markdown",
   "id": "bd971f20-7d7e-46d8-a187-2aab1128a47f",
   "metadata": {},
   "source": [
    "<h3>Insight: Dry roads again appear most, underscoring that volume matters more than adverse conditions.</h3>"
   ]
  },
  {
   "cell_type": "markdown",
   "id": "941f86c7-9b33-4a2d-a345-2d19317fd809",
   "metadata": {},
   "source": [
    "<h2>18. Which combination of surface and light conditions has the highest mean casualties?</h2>"
   ]
  },
  {
   "cell_type": "code",
   "execution_count": 75,
   "id": "7a5d4cda-f9d9-49c0-97f3-bf82f3be7d22",
   "metadata": {},
   "outputs": [
    {
     "data": {
      "text/plain": [
       "Road_Surface_Conditions  Light_Conditions           \n",
       "Dry                      Darkness - lighting unknown    1.297072\n",
       "                         Darkness - lights lit          1.352732\n",
       "                         Darkness - lights unlit        1.301622\n",
       "                         Darkness - no lighting         1.567877\n",
       "                         Daylight                       1.321303\n",
       "Flood over 3cm. deep     Darkness - lighting unknown    1.466667\n",
       "                         Darkness - lights lit          1.525000\n",
       "                         Darkness - lights unlit        3.500000\n",
       "                         Darkness - no lighting         1.411321\n",
       "                         Daylight                       1.513089\n",
       "Frost or ice             Darkness - lighting unknown    1.281124\n",
       "                         Darkness - lights lit          1.366371\n",
       "                         Darkness - lights unlit        1.353846\n",
       "                         Darkness - no lighting         1.408670\n",
       "                         Daylight                       1.322749\n",
       "Snow                     Darkness - lighting unknown    1.219048\n",
       "                         Darkness - lights lit          1.341525\n",
       "                         Darkness - lights unlit        1.269231\n",
       "                         Darkness - no lighting         1.418758\n",
       "                         Daylight                       1.359883\n",
       "Wet or damp              Darkness - lighting unknown    1.339104\n",
       "                         Darkness - lights lit          1.392372\n",
       "                         Darkness - lights unlit        1.360273\n",
       "                         Darkness - no lighting         1.550964\n",
       "                         Daylight                       1.399811\n",
       "Name: Number_of_Casualties, dtype: float64"
      ]
     },
     "execution_count": 75,
     "metadata": {},
     "output_type": "execute_result"
    }
   ],
   "source": [
    "accident_data.groupby([\"Road_Surface_Conditions\",\"Light_Conditions\"])[\"Number_of_Casualties\"].mean()"
   ]
  },
  {
   "cell_type": "markdown",
   "id": "22228b98-69b5-4089-9811-5bde1bfb7945",
   "metadata": {},
   "source": [
    "<h3>Insight: Nighttime accidents on wet or icy surfaces often yield higher casualty averages.</h3>"
   ]
  },
  {
   "cell_type": "markdown",
   "id": "6c929ba6-1409-400e-a8f3-4329a9856095",
   "metadata": {},
   "source": [
    "<h2>19. Which weather-light condition pairing leads to the highest accident counts?</h2>"
   ]
  },
  {
   "cell_type": "code",
   "execution_count": 77,
   "id": "59bd8c40-34c7-4e47-a72e-b12fb439484d",
   "metadata": {},
   "outputs": [
    {
     "data": {
      "text/plain": [
       "Weather_Conditions     Light_Conditions           \n",
       "Fine + high winds      Darkness - lighting unknown        59\n",
       "                       Darkness - lights lit            1852\n",
       "                       Darkness - lights unlit            51\n",
       "                       Darkness - no lighting            796\n",
       "                       Daylight                         5796\n",
       "Fine no high winds     Darkness - lighting unknown      5333\n",
       "                       Darkness - lights lit           93958\n",
       "                       Darkness - lights unlit          1745\n",
       "                       Darkness - no lighting          25251\n",
       "                       Daylight                       408726\n",
       "Fog or mist            Darkness - lighting unknown        65\n",
       "                       Darkness - lights lit             921\n",
       "                       Darkness - lights unlit            37\n",
       "                       Darkness - no lighting            862\n",
       "                       Daylight                         1643\n",
       "Other                  Darkness - lighting unknown       186\n",
       "                       Darkness - lights lit            4803\n",
       "                       Darkness - lights unlit           143\n",
       "                       Darkness - no lighting           1915\n",
       "                       Daylight                        10103\n",
       "Raining + high winds   Darkness - lighting unknown       111\n",
       "                       Darkness - lights lit            3066\n",
       "                       Darkness - lights unlit            73\n",
       "                       Darkness - no lighting           1423\n",
       "                       Daylight                         4942\n",
       "Raining no high winds  Darkness - lighting unknown       621\n",
       "                       Darkness - lights lit           22666\n",
       "                       Darkness - lights unlit           459\n",
       "                       Darkness - no lighting           6208\n",
       "                       Daylight                        49742\n",
       "Snowing + high winds   Darkness - lighting unknown        15\n",
       "                       Darkness - lights lit             241\n",
       "                       Darkness - lights unlit             5\n",
       "                       Darkness - no lighting            171\n",
       "                       Daylight                          453\n",
       "Snowing no high winds  Darkness - lighting unknown        94\n",
       "                       Darkness - lights lit            1828\n",
       "                       Darkness - lights unlit            30\n",
       "                       Darkness - no lighting            811\n",
       "                       Daylight                         3475\n",
       "dtype: int64"
      ]
     },
     "execution_count": 77,
     "metadata": {},
     "output_type": "execute_result"
    }
   ],
   "source": [
    "accident_data.groupby([\"Weather_Conditions\",\"Light_Conditions\"]).size()"
   ]
  },
  {
   "cell_type": "markdown",
   "id": "d07d4eac-ae29-46dd-b8a4-22ed55c110ed",
   "metadata": {},
   "source": [
    "<h3>Insight: Dark and rainy conditions often amplify risks, creating a dangerous combination.</h3>"
   ]
  },
  {
   "cell_type": "markdown",
   "id": "7cff7718-1bcd-47e7-ba80-2ad28c934d89",
   "metadata": {},
   "source": [
    "<h2>20. Do dual carriageways or single carriageways record higher casualty averages?</h2>"
   ]
  },
  {
   "cell_type": "code",
   "execution_count": 79,
   "id": "79e60de3-f236-4588-9033-b1856e70fac7",
   "metadata": {},
   "outputs": [
    {
     "data": {
      "text/plain": [
       "Road_Type\n",
       "Dual carriageway      1.477279\n",
       "One way street        1.192713\n",
       "Roundabout            1.274891\n",
       "Single carriageway    1.343788\n",
       "Slip road             1.423661\n",
       "Name: Number_of_Casualties, dtype: float64"
      ]
     },
     "execution_count": 79,
     "metadata": {},
     "output_type": "execute_result"
    }
   ],
   "source": [
    "accident_data.groupby(\"Road_Type\")[\"Number_of_Casualties\"].mean()"
   ]
  },
  {
   "cell_type": "markdown",
   "id": "bf5c2639-5769-4849-bee8-bd46c64c8380",
   "metadata": {},
   "source": [
    "<h3>Insight: Single-carriageways usually dominate counts, but dual carriageways may record higher severity.</h3>"
   ]
  },
  {
   "cell_type": "code",
   "execution_count": 78,
   "id": "d340c8a7-d2b5-4b1f-9862-1c9045311eb0",
   "metadata": {},
   "outputs": [
    {
     "data": {
      "text/plain": [
       "Weather_Conditions\n",
       "Fine + high winds        1.779401\n",
       "Fine no high winds       1.835907\n",
       "Fog or mist              1.807823\n",
       "Other                    1.777668\n",
       "Raining + high winds     1.777951\n",
       "Raining no high winds    1.831610\n",
       "Snowing + high winds     1.737853\n",
       "Snowing no high winds    1.754889\n",
       "Name: Number_of_Vehicles, dtype: float64"
      ]
     },
     "execution_count": 78,
     "metadata": {},
     "output_type": "execute_result"
    }
   ],
   "source": [
    "accident_data.groupby(\"Weather_Conditions\")[\"Number_of_Vehicles\"].mean()"
   ]
  },
  {
   "cell_type": "markdown",
   "id": "2125dd24-f5b5-4f91-bc9b-f642a5af4f90",
   "metadata": {},
   "source": [
    "<h3>Insight: Adverse conditions may lead to fewer vehicles per crash but more severe damage.</h3>"
   ]
  },
  {
   "cell_type": "code",
   "execution_count": null,
   "id": "41dec7f6-bd13-4dcb-9d0d-0f34ba791413",
   "metadata": {},
   "outputs": [],
   "source": []
  }
 ],
 "metadata": {
  "kernelspec": {
   "display_name": "Python 3 (ipykernel)",
   "language": "python",
   "name": "python3"
  },
  "language_info": {
   "codemirror_mode": {
    "name": "ipython",
    "version": 3
   },
   "file_extension": ".py",
   "mimetype": "text/x-python",
   "name": "python",
   "nbconvert_exporter": "python",
   "pygments_lexer": "ipython3",
   "version": "3.13.3"
  }
 },
 "nbformat": 4,
 "nbformat_minor": 5
}
